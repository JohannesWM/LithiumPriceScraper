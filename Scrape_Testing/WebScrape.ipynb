{
 "cells": [
  {
   "cell_type": "markdown",
   "source": [
    "This section sends a request to the website."
   ],
   "metadata": {
    "collapsed": false
   },
   "id": "cd05890e27a698ab"
  },
  {
   "cell_type": "code",
   "execution_count": 1,
   "id": "initial_id",
   "metadata": {
    "collapsed": true,
    "ExecuteTime": {
     "end_time": "2024-01-16T22:00:58.127957800Z",
     "start_time": "2024-01-16T22:00:56.001295400Z"
    }
   },
   "outputs": [],
   "source": [
    "import requests\n",
    "import bs4\n",
    "\n",
    "headers = {\n",
    "    'User-Agent': 'Mozilla/5.0 (Macintosh; Intel Mac OS X 10_15_7) \\\n",
    "    AppleWebKit/537.36 (KHTML, like Gecko) Chrome/91.0.4472.114 Safari/537.36'\n",
    "}\n",
    "\n",
    "Link = \"https://www.metal.com/price/New%20Energy/Lithium\"\n",
    "\n",
    "page_html = requests.get(Link, headers=headers).text"
   ]
  },
  {
   "cell_type": "markdown",
   "source": [
    "This creates a soup obj. and dumps html into a file"
   ],
   "metadata": {
    "collapsed": false
   },
   "id": "e196a290fff6c129"
  },
  {
   "cell_type": "code",
   "outputs": [],
   "source": [
    "page_soup = bs4.BeautifulSoup(page_html, \"html.parser\")\n",
    "\n",
    "with open(\"test.html\", \"w\", encoding='utf-8') as f:\n",
    "    f.write(page_soup.prettify())"
   ],
   "metadata": {
    "collapsed": false,
    "ExecuteTime": {
     "end_time": "2024-01-16T22:03:17.726553600Z",
     "start_time": "2024-01-16T22:03:17.706817900Z"
    }
   },
   "id": "c7e7d466e3d4f31e",
   "execution_count": 5
  },
  {
   "cell_type": "markdown",
   "source": [
    "This section finds the rows of the html"
   ],
   "metadata": {
    "collapsed": false
   },
   "id": "d7cc7e85ee614358"
  },
  {
   "cell_type": "code",
   "outputs": [
    {
     "name": "stdout",
     "output_type": "stream",
     "text": [
      "38\n"
     ]
    }
   ],
   "source": [
    "lithium_rows = page_soup.find_all(\"div\", {\"class\": \"row___1xJWs close___30tSe\"})\n",
    "print(len(lithium_rows))"
   ],
   "metadata": {
    "collapsed": false,
    "ExecuteTime": {
     "end_time": "2024-01-16T22:08:36.776394Z",
     "start_time": "2024-01-16T22:08:36.771598300Z"
    }
   },
   "id": "ded442d9a522ab89",
   "execution_count": 11
  },
  {
   "cell_type": "markdown",
   "source": [
    "This section finds the name, price, and date of the lithium data, then dumping into a list of LithiumData()"
   ],
   "metadata": {
    "collapsed": false
   },
   "id": "cfe5749842d0d1ca"
  },
  {
   "cell_type": "code",
   "outputs": [],
   "source": [
    "from data_obj import LithiumData\n",
    "\n",
    "LithiumDataList = []\n",
    "\n",
    "for litRow in lithium_rows:\n",
    "    lit_name, lit_price, lit_date = litRow.find(\"a\", {\"class\": \"link___2BznB item___ku9Fy\"}), litRow.find(\"div\", {\"style\": \"flex:;width:106px;padding-right:12px;justify-content:flex-end\"}), litRow.find(\"div\", {\"style\": \"flex:;width:120px;padding-right:24px;justify-content:flex-end\"})\n",
    "    \n",
    "    \n",
    "    if lit_name and lit_price and lit_date:\n",
    "        LithiumDataList.append(LithiumData(lit_name.text, lit_price.text, lit_date.text)) \n"
   ],
   "metadata": {
    "collapsed": false,
    "ExecuteTime": {
     "end_time": "2024-01-16T22:26:28.250698100Z",
     "start_time": "2024-01-16T22:26:28.244672100Z"
    }
   },
   "id": "84468ce6462ea573",
   "execution_count": 21
  },
  {
   "cell_type": "code",
   "outputs": [
    {
     "name": "stdout",
     "output_type": "stream",
     "text": [
      "26\n"
     ]
    }
   ],
   "source": [
    "print(len(LithiumDataList))"
   ],
   "metadata": {
    "collapsed": false,
    "ExecuteTime": {
     "end_time": "2024-01-16T22:26:38.068400600Z",
     "start_time": "2024-01-16T22:26:38.058866Z"
    }
   },
   "id": "5ff9246177b33946",
   "execution_count": 22
  },
  {
   "cell_type": "code",
   "outputs": [],
   "source": [],
   "metadata": {
    "collapsed": false
   },
   "id": "a88294c15b5dd7d2"
  }
 ],
 "metadata": {
  "kernelspec": {
   "display_name": "Python 3",
   "language": "python",
   "name": "python3"
  },
  "language_info": {
   "codemirror_mode": {
    "name": "ipython",
    "version": 2
   },
   "file_extension": ".py",
   "mimetype": "text/x-python",
   "name": "python",
   "nbconvert_exporter": "python",
   "pygments_lexer": "ipython2",
   "version": "2.7.6"
  }
 },
 "nbformat": 4,
 "nbformat_minor": 5
}
